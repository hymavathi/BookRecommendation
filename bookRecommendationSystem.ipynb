{
 "cells": [
  {
   "cell_type": "markdown",
   "id": "e0c37f7a-04dc-42f8-8d10-753290bbdca3",
   "metadata": {},
   "source": [
    "DESCRIPTION\n",
    "Book Rent is the largest online and offline book rental chain in India. They provide books of various genres, such as thrillers, mysteries, romances, and science fiction. The company charges a fixed rental fee for a book per month. Lately, the company has been losing its user base. The main reason for this is that users are not able to choose the right books for themselves. The company wants to solve this problem and increase its revenue and profit. \n",
    "\n",
    "Project Objective:\n",
    "You, as an ML expert, should focus on improving the user experience by personalizing it to the user's needs. You have to model a recommendation engine so that users get recommendations for books based on the behavior of similar users. This will ensure that users are renting the books based on their tastes and traits.\n",
    "\n",
    "Note: You have to perform user-based collaborative filtering and item-based collaborative filtering."
   ]
  },
  {
   "cell_type": "code",
   "execution_count": 1,
   "id": "bdcb503f-8d81-44f7-a9ca-286ee53286b7",
   "metadata": {
    "tags": []
   },
   "outputs": [],
   "source": [
    "# import libraries \n",
    "import pandas as pd\n",
    "import numpy as np\n",
    "import warnings\n",
    "warnings.filterwarnings('ignore')"
   ]
  },
  {
   "cell_type": "code",
   "execution_count": 2,
   "id": "b37f8287-19ef-4d96-807b-6746859a2fae",
   "metadata": {},
   "outputs": [],
   "source": [
    "#import data \n",
    "user_data = pd.read_csv('BX-Users.csv', encoding='latin-1')\n",
    "book_data = pd.read_csv('BX-Books.csv', encoding='latin-1')\n",
    "rating_data = pd.read_csv('BX-Book-Ratings.csv', encoding='latin-1')"
   ]
  },
  {
   "cell_type": "code",
   "execution_count": 3,
   "id": "e128f49e-fd1d-4d0c-97cc-fd58670e5cba",
   "metadata": {},
   "outputs": [
    {
     "data": {
      "text/plain": [
       "((278859, 3), (271379, 5), (1048575, 3))"
      ]
     },
     "execution_count": 3,
     "metadata": {},
     "output_type": "execute_result"
    }
   ],
   "source": [
    "user_data.shape, book_data.shape, rating_data.shape"
   ]
  },
  {
   "cell_type": "code",
   "execution_count": 4,
   "id": "20c880a5-6131-4c9e-95e0-65519c0a9629",
   "metadata": {},
   "outputs": [
    {
     "data": {
      "text/html": [
       "<div>\n",
       "<style scoped>\n",
       "    .dataframe tbody tr th:only-of-type {\n",
       "        vertical-align: middle;\n",
       "    }\n",
       "\n",
       "    .dataframe tbody tr th {\n",
       "        vertical-align: top;\n",
       "    }\n",
       "\n",
       "    .dataframe thead th {\n",
       "        text-align: right;\n",
       "    }\n",
       "</style>\n",
       "<table border=\"1\" class=\"dataframe\">\n",
       "  <thead>\n",
       "    <tr style=\"text-align: right;\">\n",
       "      <th></th>\n",
       "      <th>user_id</th>\n",
       "      <th>Location</th>\n",
       "      <th>Age</th>\n",
       "    </tr>\n",
       "  </thead>\n",
       "  <tbody>\n",
       "    <tr>\n",
       "      <th>0</th>\n",
       "      <td>1</td>\n",
       "      <td>nyc, new york, usa</td>\n",
       "      <td>NaN</td>\n",
       "    </tr>\n",
       "    <tr>\n",
       "      <th>1</th>\n",
       "      <td>2</td>\n",
       "      <td>stockton, california, usa</td>\n",
       "      <td>18.0</td>\n",
       "    </tr>\n",
       "    <tr>\n",
       "      <th>2</th>\n",
       "      <td>3</td>\n",
       "      <td>moscow, yukon territory, russia</td>\n",
       "      <td>NaN</td>\n",
       "    </tr>\n",
       "    <tr>\n",
       "      <th>3</th>\n",
       "      <td>4</td>\n",
       "      <td>porto, v.n.gaia, portugal</td>\n",
       "      <td>17.0</td>\n",
       "    </tr>\n",
       "    <tr>\n",
       "      <th>4</th>\n",
       "      <td>5</td>\n",
       "      <td>farnborough, hants, united kingdom</td>\n",
       "      <td>NaN</td>\n",
       "    </tr>\n",
       "  </tbody>\n",
       "</table>\n",
       "</div>"
      ],
      "text/plain": [
       "  user_id                            Location   Age\n",
       "0       1                  nyc, new york, usa   NaN\n",
       "1       2           stockton, california, usa  18.0\n",
       "2       3     moscow, yukon territory, russia   NaN\n",
       "3       4           porto, v.n.gaia, portugal  17.0\n",
       "4       5  farnborough, hants, united kingdom   NaN"
      ]
     },
     "execution_count": 4,
     "metadata": {},
     "output_type": "execute_result"
    }
   ],
   "source": [
    "user_data.head()"
   ]
  },
  {
   "cell_type": "code",
   "execution_count": 5,
   "id": "c2f4b558-ea84-48e3-98f7-7a16eda91f0f",
   "metadata": {},
   "outputs": [
    {
     "data": {
      "text/html": [
       "<div>\n",
       "<style scoped>\n",
       "    .dataframe tbody tr th:only-of-type {\n",
       "        vertical-align: middle;\n",
       "    }\n",
       "\n",
       "    .dataframe tbody tr th {\n",
       "        vertical-align: top;\n",
       "    }\n",
       "\n",
       "    .dataframe thead th {\n",
       "        text-align: right;\n",
       "    }\n",
       "</style>\n",
       "<table border=\"1\" class=\"dataframe\">\n",
       "  <thead>\n",
       "    <tr style=\"text-align: right;\">\n",
       "      <th></th>\n",
       "      <th>isbn</th>\n",
       "      <th>book_title</th>\n",
       "      <th>book_author</th>\n",
       "      <th>year_of_publication</th>\n",
       "      <th>publisher</th>\n",
       "    </tr>\n",
       "  </thead>\n",
       "  <tbody>\n",
       "    <tr>\n",
       "      <th>0</th>\n",
       "      <td>195153448</td>\n",
       "      <td>Classical Mythology</td>\n",
       "      <td>Mark P. O. Morford</td>\n",
       "      <td>2002</td>\n",
       "      <td>Oxford University Press</td>\n",
       "    </tr>\n",
       "    <tr>\n",
       "      <th>1</th>\n",
       "      <td>2005018</td>\n",
       "      <td>Clara Callan</td>\n",
       "      <td>Richard Bruce Wright</td>\n",
       "      <td>2001</td>\n",
       "      <td>HarperFlamingo Canada</td>\n",
       "    </tr>\n",
       "    <tr>\n",
       "      <th>2</th>\n",
       "      <td>60973129</td>\n",
       "      <td>Decision in Normandy</td>\n",
       "      <td>Carlo D'Este</td>\n",
       "      <td>1991</td>\n",
       "      <td>HarperPerennial</td>\n",
       "    </tr>\n",
       "    <tr>\n",
       "      <th>3</th>\n",
       "      <td>374157065</td>\n",
       "      <td>Flu: The Story of the Great Influenza Pandemic...</td>\n",
       "      <td>Gina Bari Kolata</td>\n",
       "      <td>1999</td>\n",
       "      <td>Farrar Straus Giroux</td>\n",
       "    </tr>\n",
       "    <tr>\n",
       "      <th>4</th>\n",
       "      <td>393045218</td>\n",
       "      <td>The Mummies of Urumchi</td>\n",
       "      <td>E. J. W. Barber</td>\n",
       "      <td>1999</td>\n",
       "      <td>W. W. Norton &amp;amp; Company</td>\n",
       "    </tr>\n",
       "  </tbody>\n",
       "</table>\n",
       "</div>"
      ],
      "text/plain": [
       "        isbn                                         book_title  \\\n",
       "0  195153448                                Classical Mythology   \n",
       "1    2005018                                       Clara Callan   \n",
       "2   60973129                               Decision in Normandy   \n",
       "3  374157065  Flu: The Story of the Great Influenza Pandemic...   \n",
       "4  393045218                             The Mummies of Urumchi   \n",
       "\n",
       "            book_author year_of_publication                   publisher  \n",
       "0    Mark P. O. Morford                2002     Oxford University Press  \n",
       "1  Richard Bruce Wright                2001       HarperFlamingo Canada  \n",
       "2          Carlo D'Este                1991             HarperPerennial  \n",
       "3      Gina Bari Kolata                1999        Farrar Straus Giroux  \n",
       "4       E. J. W. Barber                1999  W. W. Norton &amp; Company  "
      ]
     },
     "execution_count": 5,
     "metadata": {},
     "output_type": "execute_result"
    }
   ],
   "source": [
    "book_data.head()"
   ]
  },
  {
   "cell_type": "code",
   "execution_count": 6,
   "id": "101ea691-f823-498f-999b-2befdb4c4dbc",
   "metadata": {},
   "outputs": [
    {
     "data": {
      "text/html": [
       "<div>\n",
       "<style scoped>\n",
       "    .dataframe tbody tr th:only-of-type {\n",
       "        vertical-align: middle;\n",
       "    }\n",
       "\n",
       "    .dataframe tbody tr th {\n",
       "        vertical-align: top;\n",
       "    }\n",
       "\n",
       "    .dataframe thead th {\n",
       "        text-align: right;\n",
       "    }\n",
       "</style>\n",
       "<table border=\"1\" class=\"dataframe\">\n",
       "  <thead>\n",
       "    <tr style=\"text-align: right;\">\n",
       "      <th></th>\n",
       "      <th>user_id</th>\n",
       "      <th>isbn</th>\n",
       "      <th>rating</th>\n",
       "    </tr>\n",
       "  </thead>\n",
       "  <tbody>\n",
       "    <tr>\n",
       "      <th>0</th>\n",
       "      <td>276725</td>\n",
       "      <td>034545104X</td>\n",
       "      <td>0</td>\n",
       "    </tr>\n",
       "    <tr>\n",
       "      <th>1</th>\n",
       "      <td>276726</td>\n",
       "      <td>155061224</td>\n",
       "      <td>5</td>\n",
       "    </tr>\n",
       "    <tr>\n",
       "      <th>2</th>\n",
       "      <td>276727</td>\n",
       "      <td>446520802</td>\n",
       "      <td>0</td>\n",
       "    </tr>\n",
       "    <tr>\n",
       "      <th>3</th>\n",
       "      <td>276729</td>\n",
       "      <td>052165615X</td>\n",
       "      <td>3</td>\n",
       "    </tr>\n",
       "    <tr>\n",
       "      <th>4</th>\n",
       "      <td>276729</td>\n",
       "      <td>521795028</td>\n",
       "      <td>6</td>\n",
       "    </tr>\n",
       "  </tbody>\n",
       "</table>\n",
       "</div>"
      ],
      "text/plain": [
       "   user_id        isbn  rating\n",
       "0   276725  034545104X       0\n",
       "1   276726   155061224       5\n",
       "2   276727   446520802       0\n",
       "3   276729  052165615X       3\n",
       "4   276729   521795028       6"
      ]
     },
     "execution_count": 6,
     "metadata": {},
     "output_type": "execute_result"
    }
   ],
   "source": [
    "rating_data.head()"
   ]
  },
  {
   "cell_type": "markdown",
   "id": "9c9314a5-29c0-4e12-9595-55bff2ac798d",
   "metadata": {},
   "source": [
    "### Read the books dataset and explore it"
   ]
  },
  {
   "cell_type": "code",
   "execution_count": 7,
   "id": "dc76826d-0b3f-480b-a1c5-2216def8455c",
   "metadata": {},
   "outputs": [
    {
     "name": "stdout",
     "output_type": "stream",
     "text": [
      "<class 'pandas.core.frame.DataFrame'>\n",
      "RangeIndex: 271379 entries, 0 to 271378\n",
      "Data columns (total 5 columns):\n",
      " #   Column               Non-Null Count   Dtype \n",
      "---  ------               --------------   ----- \n",
      " 0   isbn                 271379 non-null  object\n",
      " 1   book_title           271379 non-null  object\n",
      " 2   book_author          271378 non-null  object\n",
      " 3   year_of_publication  271379 non-null  object\n",
      " 4   publisher            271377 non-null  object\n",
      "dtypes: object(5)\n",
      "memory usage: 10.4+ MB\n"
     ]
    }
   ],
   "source": [
    "book_data.info()"
   ]
  },
  {
   "cell_type": "code",
   "execution_count": 8,
   "id": "75d430bd-cbf5-48ef-8b60-3082d627429b",
   "metadata": {},
   "outputs": [
    {
     "data": {
      "text/html": [
       "<div>\n",
       "<style scoped>\n",
       "    .dataframe tbody tr th:only-of-type {\n",
       "        vertical-align: middle;\n",
       "    }\n",
       "\n",
       "    .dataframe tbody tr th {\n",
       "        vertical-align: top;\n",
       "    }\n",
       "\n",
       "    .dataframe thead th {\n",
       "        text-align: right;\n",
       "    }\n",
       "</style>\n",
       "<table border=\"1\" class=\"dataframe\">\n",
       "  <thead>\n",
       "    <tr style=\"text-align: right;\">\n",
       "      <th></th>\n",
       "      <th>isbn</th>\n",
       "      <th>book_title</th>\n",
       "      <th>book_author</th>\n",
       "      <th>year_of_publication</th>\n",
       "      <th>publisher</th>\n",
       "    </tr>\n",
       "  </thead>\n",
       "  <tbody>\n",
       "    <tr>\n",
       "      <th>0</th>\n",
       "      <td>195153448</td>\n",
       "      <td>Classical Mythology</td>\n",
       "      <td>Mark P. O. Morford</td>\n",
       "      <td>2002</td>\n",
       "      <td>Oxford University Press</td>\n",
       "    </tr>\n",
       "    <tr>\n",
       "      <th>1</th>\n",
       "      <td>2005018</td>\n",
       "      <td>Clara Callan</td>\n",
       "      <td>Richard Bruce Wright</td>\n",
       "      <td>2001</td>\n",
       "      <td>HarperFlamingo Canada</td>\n",
       "    </tr>\n",
       "    <tr>\n",
       "      <th>2</th>\n",
       "      <td>60973129</td>\n",
       "      <td>Decision in Normandy</td>\n",
       "      <td>Carlo D'Este</td>\n",
       "      <td>1991</td>\n",
       "      <td>HarperPerennial</td>\n",
       "    </tr>\n",
       "    <tr>\n",
       "      <th>3</th>\n",
       "      <td>374157065</td>\n",
       "      <td>Flu: The Story of the Great Influenza Pandemic...</td>\n",
       "      <td>Gina Bari Kolata</td>\n",
       "      <td>1999</td>\n",
       "      <td>Farrar Straus Giroux</td>\n",
       "    </tr>\n",
       "    <tr>\n",
       "      <th>4</th>\n",
       "      <td>393045218</td>\n",
       "      <td>The Mummies of Urumchi</td>\n",
       "      <td>E. J. W. Barber</td>\n",
       "      <td>1999</td>\n",
       "      <td>W. W. Norton &amp;amp; Company</td>\n",
       "    </tr>\n",
       "  </tbody>\n",
       "</table>\n",
       "</div>"
      ],
      "text/plain": [
       "        isbn                                         book_title  \\\n",
       "0  195153448                                Classical Mythology   \n",
       "1    2005018                                       Clara Callan   \n",
       "2   60973129                               Decision in Normandy   \n",
       "3  374157065  Flu: The Story of the Great Influenza Pandemic...   \n",
       "4  393045218                             The Mummies of Urumchi   \n",
       "\n",
       "            book_author year_of_publication                   publisher  \n",
       "0    Mark P. O. Morford                2002     Oxford University Press  \n",
       "1  Richard Bruce Wright                2001       HarperFlamingo Canada  \n",
       "2          Carlo D'Este                1991             HarperPerennial  \n",
       "3      Gina Bari Kolata                1999        Farrar Straus Giroux  \n",
       "4       E. J. W. Barber                1999  W. W. Norton &amp; Company  "
      ]
     },
     "execution_count": 8,
     "metadata": {},
     "output_type": "execute_result"
    }
   ],
   "source": [
    "book_data.head()"
   ]
  },
  {
   "cell_type": "code",
   "execution_count": 9,
   "id": "d100f4a3-f666-4e42-b720-f5420fdb29d7",
   "metadata": {},
   "outputs": [
    {
     "data": {
      "text/plain": [
       "isbn                   0\n",
       "book_title             0\n",
       "book_author            1\n",
       "year_of_publication    0\n",
       "publisher              2\n",
       "dtype: int64"
      ]
     },
     "execution_count": 9,
     "metadata": {},
     "output_type": "execute_result"
    }
   ],
   "source": [
    "book_data.isna().sum()"
   ]
  },
  {
   "cell_type": "code",
   "execution_count": 10,
   "id": "c8213df8-6e05-4809-a21d-3ef802cb649d",
   "metadata": {},
   "outputs": [
    {
     "data": {
      "text/plain": [
       "0"
      ]
     },
     "execution_count": 10,
     "metadata": {},
     "output_type": "execute_result"
    }
   ],
   "source": [
    "book_data.duplicated().sum()"
   ]
  },
  {
   "cell_type": "code",
   "execution_count": 11,
   "id": "d49112b2-476f-4a62-83d1-28f1348b6d07",
   "metadata": {},
   "outputs": [
    {
     "data": {
      "text/html": [
       "<div>\n",
       "<style scoped>\n",
       "    .dataframe tbody tr th:only-of-type {\n",
       "        vertical-align: middle;\n",
       "    }\n",
       "\n",
       "    .dataframe tbody tr th {\n",
       "        vertical-align: top;\n",
       "    }\n",
       "\n",
       "    .dataframe thead th {\n",
       "        text-align: right;\n",
       "    }\n",
       "</style>\n",
       "<table border=\"1\" class=\"dataframe\">\n",
       "  <thead>\n",
       "    <tr style=\"text-align: right;\">\n",
       "      <th></th>\n",
       "      <th>isbn</th>\n",
       "      <th>book_title</th>\n",
       "      <th>book_author</th>\n",
       "      <th>year_of_publication</th>\n",
       "      <th>publisher</th>\n",
       "    </tr>\n",
       "  </thead>\n",
       "  <tbody>\n",
       "    <tr>\n",
       "      <th>128896</th>\n",
       "      <td>193169656X</td>\n",
       "      <td>Tyrant Moon</td>\n",
       "      <td>Elaine Corvidae</td>\n",
       "      <td>2002</td>\n",
       "      <td>NaN</td>\n",
       "    </tr>\n",
       "    <tr>\n",
       "      <th>129043</th>\n",
       "      <td>1931696993</td>\n",
       "      <td>Finders Keepers</td>\n",
       "      <td>Linnea Sinclair</td>\n",
       "      <td>2001</td>\n",
       "      <td>NaN</td>\n",
       "    </tr>\n",
       "  </tbody>\n",
       "</table>\n",
       "</div>"
      ],
      "text/plain": [
       "              isbn       book_title      book_author year_of_publication  \\\n",
       "128896  193169656X      Tyrant Moon  Elaine Corvidae                2002   \n",
       "129043  1931696993  Finders Keepers  Linnea Sinclair                2001   \n",
       "\n",
       "       publisher  \n",
       "128896       NaN  \n",
       "129043       NaN  "
      ]
     },
     "execution_count": 11,
     "metadata": {},
     "output_type": "execute_result"
    }
   ],
   "source": [
    "book_data[book_data.publisher.isna()]"
   ]
  },
  {
   "cell_type": "code",
   "execution_count": 12,
   "id": "396e0f73-d8e5-47c7-914c-ca007c3405c6",
   "metadata": {},
   "outputs": [
    {
     "data": {
      "text/html": [
       "<div>\n",
       "<style scoped>\n",
       "    .dataframe tbody tr th:only-of-type {\n",
       "        vertical-align: middle;\n",
       "    }\n",
       "\n",
       "    .dataframe tbody tr th {\n",
       "        vertical-align: top;\n",
       "    }\n",
       "\n",
       "    .dataframe thead th {\n",
       "        text-align: right;\n",
       "    }\n",
       "</style>\n",
       "<table border=\"1\" class=\"dataframe\">\n",
       "  <thead>\n",
       "    <tr style=\"text-align: right;\">\n",
       "      <th></th>\n",
       "      <th>isbn</th>\n",
       "      <th>book_title</th>\n",
       "      <th>book_author</th>\n",
       "      <th>year_of_publication</th>\n",
       "      <th>publisher</th>\n",
       "    </tr>\n",
       "  </thead>\n",
       "  <tbody>\n",
       "    <tr>\n",
       "      <th>187700</th>\n",
       "      <td>9627982032</td>\n",
       "      <td>The Credit Suisse Guide to Managing Your Perso...</td>\n",
       "      <td>NaN</td>\n",
       "      <td>1995</td>\n",
       "      <td>Edinburgh Financial Publishing</td>\n",
       "    </tr>\n",
       "  </tbody>\n",
       "</table>\n",
       "</div>"
      ],
      "text/plain": [
       "              isbn                                         book_title  \\\n",
       "187700  9627982032  The Credit Suisse Guide to Managing Your Perso...   \n",
       "\n",
       "       book_author year_of_publication                       publisher  \n",
       "187700         NaN                1995  Edinburgh Financial Publishing  "
      ]
     },
     "execution_count": 12,
     "metadata": {},
     "output_type": "execute_result"
    }
   ],
   "source": [
    "book_data[book_data.book_author.isna()]"
   ]
  },
  {
   "cell_type": "code",
   "execution_count": 13,
   "id": "56384aaf-e1bc-4ee8-9637-0957f94ba202",
   "metadata": {},
   "outputs": [
    {
     "data": {
      "text/plain": [
       "(271379, 5)"
      ]
     },
     "execution_count": 13,
     "metadata": {},
     "output_type": "execute_result"
    }
   ],
   "source": [
    "book_data.shape"
   ]
  },
  {
   "cell_type": "markdown",
   "id": "4a621753-bc28-4adc-9011-bf0fb2aaaf46",
   "metadata": {},
   "source": [
    "since there are only 3 NANs , we can remove nulls. No imputing is necessary "
   ]
  },
  {
   "cell_type": "code",
   "execution_count": 14,
   "id": "81df10c6-b0d3-431f-a3ac-fa438fdc80de",
   "metadata": {},
   "outputs": [],
   "source": [
    "book_data.dropna(inplace=True)"
   ]
  },
  {
   "cell_type": "code",
   "execution_count": 15,
   "id": "a89622a8-44f7-45cd-96b7-d34de322787a",
   "metadata": {},
   "outputs": [
    {
     "data": {
      "text/plain": [
       "(271376, 5)"
      ]
     },
     "execution_count": 15,
     "metadata": {},
     "output_type": "execute_result"
    }
   ],
   "source": [
    "book_data.shape"
   ]
  },
  {
   "cell_type": "code",
   "execution_count": 16,
   "id": "05598303-1728-4130-89f3-54d00689b2c6",
   "metadata": {},
   "outputs": [],
   "source": [
    "# lets group by author name\n",
    "bkgrp = book_data.groupby('book_author')"
   ]
  },
  {
   "cell_type": "code",
   "execution_count": 17,
   "id": "9caac609-da39-4721-bd33-19c3191d2eda",
   "metadata": {},
   "outputs": [
    {
     "data": {
      "text/plain": [
       "<bound method BaseGroupBy.get_group of <pandas.core.groupby.generic.DataFrameGroupBy object at 0x7fb3d0cd30a0>>"
      ]
     },
     "execution_count": 17,
     "metadata": {},
     "output_type": "execute_result"
    }
   ],
   "source": [
    "bkgrp.get_group"
   ]
  },
  {
   "cell_type": "code",
   "execution_count": 18,
   "id": "3e6a5463-15c4-4d4c-b00e-7f5afb2f65d0",
   "metadata": {},
   "outputs": [
    {
     "data": {
      "text/html": [
       "<div>\n",
       "<style scoped>\n",
       "    .dataframe tbody tr th:only-of-type {\n",
       "        vertical-align: middle;\n",
       "    }\n",
       "\n",
       "    .dataframe tbody tr th {\n",
       "        vertical-align: top;\n",
       "    }\n",
       "\n",
       "    .dataframe thead th {\n",
       "        text-align: right;\n",
       "    }\n",
       "</style>\n",
       "<table border=\"1\" class=\"dataframe\">\n",
       "  <thead>\n",
       "    <tr style=\"text-align: right;\">\n",
       "      <th></th>\n",
       "      <th>isbn</th>\n",
       "      <th>book_title</th>\n",
       "      <th>book_author</th>\n",
       "      <th>year_of_publication</th>\n",
       "      <th>publisher</th>\n",
       "    </tr>\n",
       "  </thead>\n",
       "  <tbody>\n",
       "    <tr>\n",
       "      <th>33915</th>\n",
       "      <td>2290048763</td>\n",
       "      <td>Mademoiselle Chambon</td>\n",
       "      <td>Ã?Â?ric Holder</td>\n",
       "      <td>1998</td>\n",
       "      <td>J'ai lu</td>\n",
       "    </tr>\n",
       "  </tbody>\n",
       "</table>\n",
       "</div>"
      ],
      "text/plain": [
       "             isbn            book_title     book_author year_of_publication  \\\n",
       "33915  2290048763  Mademoiselle Chambon  Ã?Â?ric Holder                1998   \n",
       "\n",
       "      publisher  \n",
       "33915   J'ai lu  "
      ]
     },
     "execution_count": 18,
     "metadata": {},
     "output_type": "execute_result"
    }
   ],
   "source": [
    "book_data[book_data.isbn == '2290048763']"
   ]
  },
  {
   "cell_type": "code",
   "execution_count": 19,
   "id": "8b65c9c8-fe2a-4180-b480-ede99c907a16",
   "metadata": {},
   "outputs": [],
   "source": [
    "# group by year\n",
    "bkgrp1 = book_data.groupby('year_of_publication')"
   ]
  },
  {
   "cell_type": "code",
   "execution_count": 20,
   "id": "5cbfb5a9-718f-42e7-94a8-accb7a7013ed",
   "metadata": {},
   "outputs": [
    {
     "data": {
      "text/html": [
       "<div>\n",
       "<style scoped>\n",
       "    .dataframe tbody tr th:only-of-type {\n",
       "        vertical-align: middle;\n",
       "    }\n",
       "\n",
       "    .dataframe tbody tr th {\n",
       "        vertical-align: top;\n",
       "    }\n",
       "\n",
       "    .dataframe thead th {\n",
       "        text-align: right;\n",
       "    }\n",
       "</style>\n",
       "<table border=\"1\" class=\"dataframe\">\n",
       "  <thead>\n",
       "    <tr style=\"text-align: right;\">\n",
       "      <th></th>\n",
       "      <th>isbn</th>\n",
       "      <th>book_title</th>\n",
       "      <th>book_author</th>\n",
       "      <th>publisher</th>\n",
       "    </tr>\n",
       "    <tr>\n",
       "      <th>year_of_publication</th>\n",
       "      <th></th>\n",
       "      <th></th>\n",
       "      <th></th>\n",
       "      <th></th>\n",
       "    </tr>\n",
       "  </thead>\n",
       "  <tbody>\n",
       "    <tr>\n",
       "      <th>0</th>\n",
       "      <td>091680013X</td>\n",
       "      <td>Masterpieces of Erotic Photography</td>\n",
       "      <td>David Bailey</td>\n",
       "      <td>Harbor House Publishers</td>\n",
       "    </tr>\n",
       "    <tr>\n",
       "      <th>1901</th>\n",
       "      <td>671397214</td>\n",
       "      <td>JOY OF MUSIC     P</td>\n",
       "      <td>Leonard Bernstein</td>\n",
       "      <td>Fireside</td>\n",
       "    </tr>\n",
       "    <tr>\n",
       "      <th>1920</th>\n",
       "      <td>840724551</td>\n",
       "      <td>Agneatha and the Peacocks-Blank Book</td>\n",
       "      <td>Markings</td>\n",
       "      <td>Nelson Communications</td>\n",
       "    </tr>\n",
       "    <tr>\n",
       "      <th>1929</th>\n",
       "      <td>073943828X</td>\n",
       "      <td>Murder at the Manor (Mystery Guild Lost Classi...</td>\n",
       "      <td>Agatha Christie</td>\n",
       "      <td>Dodd Mead &amp;amp; Company</td>\n",
       "    </tr>\n",
       "    <tr>\n",
       "      <th>1930</th>\n",
       "      <td>684717999</td>\n",
       "      <td>Green Hills of Africa (Scribner Classic)</td>\n",
       "      <td>Ernest Hemingway</td>\n",
       "      <td>Collier Books</td>\n",
       "    </tr>\n",
       "    <tr>\n",
       "      <th>...</th>\n",
       "      <td>...</td>\n",
       "      <td>...</td>\n",
       "      <td>...</td>\n",
       "      <td>...</td>\n",
       "    </tr>\n",
       "    <tr>\n",
       "      <th>Luella Hill</th>\n",
       "      <td>096401811X</td>\n",
       "      <td>Solid as a rock \\I\\\" stand: Inspirational poet...</td>\n",
       "      <td>short stories\"</td>\n",
       "      <td>1998</td>\n",
       "    </tr>\n",
       "    <tr>\n",
       "      <th>ROBERT A. WILSON</th>\n",
       "      <td>440500702</td>\n",
       "      <td>Schrodinger's Cat Trilogy : \\The Universe Next...</td>\n",
       "      <td>\\\"The Homing Pigeons\\\"\"</td>\n",
       "      <td>1988</td>\n",
       "    </tr>\n",
       "    <tr>\n",
       "      <th>Salvador de Madariaga</th>\n",
       "      <td>8423920143</td>\n",
       "      <td>GuÃ­a del lector del \\Quijote\\\": Ensayo psicol...</td>\n",
       "      <td>14 : Ensayo)\"</td>\n",
       "      <td>1976</td>\n",
       "    </tr>\n",
       "    <tr>\n",
       "      <th>Stan Berenstain</th>\n",
       "      <td>039482492X</td>\n",
       "      <td>C is for Clown: A Circus of \\C\\\" Words, (Brigh...</td>\n",
       "      <td>early books for beginning beginners)\"</td>\n",
       "      <td>1972</td>\n",
       "    </tr>\n",
       "    <tr>\n",
       "      <th>\\\"Freedom Song\\\"\"</th>\n",
       "      <td>330482750</td>\n",
       "      <td>Three Novels: \\A Strange and Sublime Address\\\"</td>\n",
       "      <td>\\\"Afternoon Raag\\\"</td>\n",
       "      <td>Amit Chaudhuri</td>\n",
       "    </tr>\n",
       "  </tbody>\n",
       "</table>\n",
       "<p>202 rows × 4 columns</p>\n",
       "</div>"
      ],
      "text/plain": [
       "                             isbn  \\\n",
       "year_of_publication                 \n",
       "0                      091680013X   \n",
       "1901                    671397214   \n",
       "1920                    840724551   \n",
       "1929                   073943828X   \n",
       "1930                    684717999   \n",
       "...                           ...   \n",
       "Luella Hill            096401811X   \n",
       "ROBERT A. WILSON        440500702   \n",
       "Salvador de Madariaga  8423920143   \n",
       "Stan Berenstain        039482492X   \n",
       "\\\"Freedom Song\\\"\"       330482750   \n",
       "\n",
       "                                                              book_title  \\\n",
       "year_of_publication                                                        \n",
       "0                                     Masterpieces of Erotic Photography   \n",
       "1901                                                  JOY OF MUSIC     P   \n",
       "1920                                Agneatha and the Peacocks-Blank Book   \n",
       "1929                   Murder at the Manor (Mystery Guild Lost Classi...   \n",
       "1930                            Green Hills of Africa (Scribner Classic)   \n",
       "...                                                                  ...   \n",
       "Luella Hill            Solid as a rock \\I\\\" stand: Inspirational poet...   \n",
       "ROBERT A. WILSON       Schrodinger's Cat Trilogy : \\The Universe Next...   \n",
       "Salvador de Madariaga  GuÃ­a del lector del \\Quijote\\\": Ensayo psicol...   \n",
       "Stan Berenstain        C is for Clown: A Circus of \\C\\\" Words, (Brigh...   \n",
       "\\\"Freedom Song\\\"\"         Three Novels: \\A Strange and Sublime Address\\\"   \n",
       "\n",
       "                                                  book_author  \\\n",
       "year_of_publication                                             \n",
       "0                                                David Bailey   \n",
       "1901                                        Leonard Bernstein   \n",
       "1920                                                 Markings   \n",
       "1929                                          Agatha Christie   \n",
       "1930                                         Ernest Hemingway   \n",
       "...                                                       ...   \n",
       "Luella Hill                                    short stories\"   \n",
       "ROBERT A. WILSON                      \\\"The Homing Pigeons\\\"\"   \n",
       "Salvador de Madariaga                           14 : Ensayo)\"   \n",
       "Stan Berenstain         early books for beginning beginners)\"   \n",
       "\\\"Freedom Song\\\"\"                          \\\"Afternoon Raag\\\"   \n",
       "\n",
       "                                     publisher  \n",
       "year_of_publication                             \n",
       "0                      Harbor House Publishers  \n",
       "1901                                  Fireside  \n",
       "1920                     Nelson Communications  \n",
       "1929                   Dodd Mead &amp; Company  \n",
       "1930                             Collier Books  \n",
       "...                                        ...  \n",
       "Luella Hill                               1998  \n",
       "ROBERT A. WILSON                          1988  \n",
       "Salvador de Madariaga                     1976  \n",
       "Stan Berenstain                           1972  \n",
       "\\\"Freedom Song\\\"\"               Amit Chaudhuri  \n",
       "\n",
       "[202 rows x 4 columns]"
      ]
     },
     "execution_count": 20,
     "metadata": {},
     "output_type": "execute_result"
    }
   ],
   "source": [
    "bkgrp1.first()"
   ]
  },
  {
   "cell_type": "code",
   "execution_count": 21,
   "id": "9113969e-728c-49e8-9864-28c928ad4426",
   "metadata": {},
   "outputs": [
    {
     "data": {
      "text/plain": [
       "array(['2002', '2001', '1991', '1999', '2000', '1993', '1996', '1988',\n",
       "       '2004', '1998', '1994', '2003', '1997', '1983', '1979', '1995',\n",
       "       '1982', '1985', '1992', '1986', '1978', '1980', '1952', '1987',\n",
       "       '1990', '1981', '1989', '1984', '0', '1968', '1961', '1958',\n",
       "       '1974', '1976', '1971', '1977', '1975', '1965', '1941', '1970',\n",
       "       '1962', '1973', '1972', '1960', '1966', '1920', '1956', '1959',\n",
       "       '1953', '1951', '1942', '1963', '1964', '1969', '1954', '1950',\n",
       "       '1967', '2005', '1957', '1940', '1937', 'John Peterman', '1955',\n",
       "       '1946', '1936', '1930', '2011', '1925', '1948', '1943', '1947',\n",
       "       '1945', '1923', '2020', '1939', '1926', '1938', '2030',\n",
       "       '\\\\\"Freedom Song\\\\\"\"', '1911', '1904', '1949', 'Frank Muir',\n",
       "       '1932', '1928', '1929', '1927', '1931', '1914', '2050', '1934',\n",
       "       '1910', 'ROBERT A. WILSON', '1933', '1902', 'Karen T. Whittenburg',\n",
       "       '1924', '1921', '1900', '2038', '2026', 'George H. Scherr', '1944',\n",
       "       '1917', '1901', 'Salvador de Madariaga', '2010',\n",
       "       'K.C. Constantine', 'Stan Berenstain', '1908', '1906', '1935',\n",
       "       '1806', 'Francine Pascal', '2021', 'Luella Hill', '2012', '2006',\n",
       "       'John Alderson Foote', 'DK Publishing Inc', 'Jules Janin',\n",
       "       'Gallimard', '1909', '2008', '1378', ' &amp', ' Learning\"', '1919',\n",
       "       '1922', '1897', 'Isadora Duncan', '2024', 'Beatrix Potter', '1376',\n",
       "       '2037', 'Bart Rulon', 'Alan Rich', 2000, 1982, 1983, 1989, 1993,\n",
       "       1991, 1990, 1998, 1994, 1995, 1986, 1987, 1974, 1984, 0, 1977,\n",
       "       1996, 1997, 1980, 1988, 2002, 2001, 1981, 1999, 1992, 2003, 2004,\n",
       "       1972, 1976, 1985, 1978, 1979, 1970, 1962, 1975, 1901, 1973, 1955,\n",
       "       1971, 1964, 1963, 1958, 1968, 1969, 1966, 1946, 1943, 1967, 1949,\n",
       "       1965, 1961, 1960, 1930, 1951, 1957, 1959, 1952, 1953, 1956, 1950,\n",
       "       1954, 1920, 2005, 1940, 1929], dtype=object)"
      ]
     },
     "execution_count": 21,
     "metadata": {},
     "output_type": "execute_result"
    }
   ],
   "source": [
    "book_data.year_of_publication.unique()"
   ]
  },
  {
   "cell_type": "code",
   "execution_count": 22,
   "id": "c045d107-5506-4479-9fa8-7756fd7be162",
   "metadata": {},
   "outputs": [
    {
     "data": {
      "text/html": [
       "<div>\n",
       "<style scoped>\n",
       "    .dataframe tbody tr th:only-of-type {\n",
       "        vertical-align: middle;\n",
       "    }\n",
       "\n",
       "    .dataframe tbody tr th {\n",
       "        vertical-align: top;\n",
       "    }\n",
       "\n",
       "    .dataframe thead th {\n",
       "        text-align: right;\n",
       "    }\n",
       "</style>\n",
       "<table border=\"1\" class=\"dataframe\">\n",
       "  <thead>\n",
       "    <tr style=\"text-align: right;\">\n",
       "      <th></th>\n",
       "      <th>isbn</th>\n",
       "      <th>book_title</th>\n",
       "      <th>book_author</th>\n",
       "      <th>year_of_publication</th>\n",
       "      <th>publisher</th>\n",
       "    </tr>\n",
       "  </thead>\n",
       "  <tbody>\n",
       "    <tr>\n",
       "      <th>121766</th>\n",
       "      <td>894805959</td>\n",
       "      <td>The Best of the Journal of Irreproducible Resu...</td>\n",
       "      <td>Unfounded Findings\\\"\"</td>\n",
       "      <td>George H. Scherr</td>\n",
       "      <td>1989</td>\n",
       "    </tr>\n",
       "  </tbody>\n",
       "</table>\n",
       "</div>"
      ],
      "text/plain": [
       "             isbn                                         book_title  \\\n",
       "121766  894805959  The Best of the Journal of Irreproducible Resu...   \n",
       "\n",
       "                   book_author year_of_publication publisher  \n",
       "121766   Unfounded Findings\\\"\"    George H. Scherr      1989  "
      ]
     },
     "execution_count": 22,
     "metadata": {},
     "output_type": "execute_result"
    }
   ],
   "source": [
    "bkgrp1.get_group('George H. Scherr')"
   ]
  },
  {
   "cell_type": "code",
   "execution_count": 23,
   "id": "75b943f6-7b3a-4094-811e-cf17eb6cf2c1",
   "metadata": {},
   "outputs": [
    {
     "data": {
      "text/html": [
       "<div>\n",
       "<style scoped>\n",
       "    .dataframe tbody tr th:only-of-type {\n",
       "        vertical-align: middle;\n",
       "    }\n",
       "\n",
       "    .dataframe tbody tr th {\n",
       "        vertical-align: top;\n",
       "    }\n",
       "\n",
       "    .dataframe thead th {\n",
       "        text-align: right;\n",
       "    }\n",
       "</style>\n",
       "<table border=\"1\" class=\"dataframe\">\n",
       "  <thead>\n",
       "    <tr style=\"text-align: right;\">\n",
       "      <th></th>\n",
       "      <th>isbn</th>\n",
       "      <th>book_title</th>\n",
       "      <th>book_author</th>\n",
       "      <th>year_of_publication</th>\n",
       "      <th>publisher</th>\n",
       "    </tr>\n",
       "  </thead>\n",
       "  <tbody>\n",
       "    <tr>\n",
       "      <th>220624</th>\n",
       "      <td>1874100055</td>\n",
       "      <td>\\The Dead Donkey\\\" &amp;amp</td>\n",
       "      <td>\\\"The Guillotined Woman\\\"\"</td>\n",
       "      <td>Jules Janin</td>\n",
       "      <td>0</td>\n",
       "    </tr>\n",
       "  </tbody>\n",
       "</table>\n",
       "</div>"
      ],
      "text/plain": [
       "              isbn               book_title                  book_author  \\\n",
       "220624  1874100055  \\The Dead Donkey\\\" &amp   \\\"The Guillotined Woman\\\"\"   \n",
       "\n",
       "       year_of_publication publisher  \n",
       "220624         Jules Janin         0  "
      ]
     },
     "execution_count": 23,
     "metadata": {},
     "output_type": "execute_result"
    }
   ],
   "source": [
    "bkgrp1.get_group('Jules Janin')"
   ]
  },
  {
   "cell_type": "raw",
   "id": "a027af79-8f0e-425d-ae0e-d6dfe5b59812",
   "metadata": {},
   "source": [
    "The raw data is not very good. But Isbn numbers are unique and is what we most likely need. So lets leave the data as is"
   ]
  },
  {
   "cell_type": "code",
   "execution_count": 24,
   "id": "64460778-6a77-4564-af04-1e90d038ed1a",
   "metadata": {},
   "outputs": [
    {
     "data": {
      "text/plain": [
       "271376"
      ]
     },
     "execution_count": 24,
     "metadata": {},
     "output_type": "execute_result"
    }
   ],
   "source": [
    "book_data.isbn.nunique()"
   ]
  },
  {
   "cell_type": "code",
   "execution_count": 25,
   "id": "cf3cef2d-3a68-4274-a290-ec38c88ef420",
   "metadata": {},
   "outputs": [
    {
     "data": {
      "text/plain": [
       "(271376, 5)"
      ]
     },
     "execution_count": 25,
     "metadata": {},
     "output_type": "execute_result"
    }
   ],
   "source": [
    "book_data.shape"
   ]
  },
  {
   "cell_type": "code",
   "execution_count": 26,
   "id": "4c6dfa72-5bd1-4517-b4e3-14df64b0d1ea",
   "metadata": {},
   "outputs": [],
   "source": [
    "# isbn is the primary key and no duplicates in that column."
   ]
  },
  {
   "cell_type": "code",
   "execution_count": 26,
   "id": "c0aa821e-78f4-4640-a8b6-54181cb3839d",
   "metadata": {},
   "outputs": [
    {
     "data": {
      "text/plain": [
       "array(['195153448', '2005018', '60973129', ..., '006008667X', '192126040',\n",
       "       '767409752'], dtype=object)"
      ]
     },
     "execution_count": 26,
     "metadata": {},
     "output_type": "execute_result"
    }
   ],
   "source": [
    "book_data.isbn.unique()"
   ]
  },
  {
   "cell_type": "markdown",
   "id": "fcd42f7f-be60-458b-ab18-26ca5c004aa1",
   "metadata": {},
   "source": [
    "### Read the data where ratings are given by users"
   ]
  },
  {
   "cell_type": "code",
   "execution_count": 27,
   "id": "c0601dec-3eef-42a1-9e4b-d50d44fd3cdf",
   "metadata": {},
   "outputs": [
    {
     "data": {
      "text/plain": [
       "(1048575, 3)"
      ]
     },
     "execution_count": 27,
     "metadata": {},
     "output_type": "execute_result"
    }
   ],
   "source": [
    "rating_data.shape"
   ]
  },
  {
   "cell_type": "code",
   "execution_count": 28,
   "id": "f6154ec4-79af-4080-8a92-d31fa2f4d917",
   "metadata": {},
   "outputs": [
    {
     "name": "stdout",
     "output_type": "stream",
     "text": [
      "<class 'pandas.core.frame.DataFrame'>\n",
      "RangeIndex: 1048575 entries, 0 to 1048574\n",
      "Data columns (total 3 columns):\n",
      " #   Column   Non-Null Count    Dtype \n",
      "---  ------   --------------    ----- \n",
      " 0   user_id  1048575 non-null  int64 \n",
      " 1   isbn     1048575 non-null  object\n",
      " 2   rating   1048575 non-null  int64 \n",
      "dtypes: int64(2), object(1)\n",
      "memory usage: 24.0+ MB\n"
     ]
    }
   ],
   "source": [
    "rating_data.info()"
   ]
  },
  {
   "cell_type": "code",
   "execution_count": 29,
   "id": "db31b46f-90bd-419b-b035-9d8594e4993a",
   "metadata": {},
   "outputs": [
    {
     "data": {
      "text/plain": [
       "0"
      ]
     },
     "execution_count": 29,
     "metadata": {},
     "output_type": "execute_result"
    }
   ],
   "source": [
    "rating_data.user_id.isna().sum()"
   ]
  },
  {
   "cell_type": "code",
   "execution_count": 30,
   "id": "9563c4cd-627d-4ab7-b0f4-74abd6d25463",
   "metadata": {},
   "outputs": [
    {
     "data": {
      "text/html": [
       "<div>\n",
       "<style scoped>\n",
       "    .dataframe tbody tr th:only-of-type {\n",
       "        vertical-align: middle;\n",
       "    }\n",
       "\n",
       "    .dataframe tbody tr th {\n",
       "        vertical-align: top;\n",
       "    }\n",
       "\n",
       "    .dataframe thead th {\n",
       "        text-align: right;\n",
       "    }\n",
       "</style>\n",
       "<table border=\"1\" class=\"dataframe\">\n",
       "  <thead>\n",
       "    <tr style=\"text-align: right;\">\n",
       "      <th></th>\n",
       "      <th>user_id</th>\n",
       "      <th>isbn</th>\n",
       "      <th>rating</th>\n",
       "    </tr>\n",
       "  </thead>\n",
       "  <tbody>\n",
       "    <tr>\n",
       "      <th>0</th>\n",
       "      <td>276725</td>\n",
       "      <td>034545104X</td>\n",
       "      <td>0</td>\n",
       "    </tr>\n",
       "    <tr>\n",
       "      <th>1</th>\n",
       "      <td>276726</td>\n",
       "      <td>155061224</td>\n",
       "      <td>5</td>\n",
       "    </tr>\n",
       "    <tr>\n",
       "      <th>2</th>\n",
       "      <td>276727</td>\n",
       "      <td>446520802</td>\n",
       "      <td>0</td>\n",
       "    </tr>\n",
       "    <tr>\n",
       "      <th>3</th>\n",
       "      <td>276729</td>\n",
       "      <td>052165615X</td>\n",
       "      <td>3</td>\n",
       "    </tr>\n",
       "    <tr>\n",
       "      <th>4</th>\n",
       "      <td>276729</td>\n",
       "      <td>521795028</td>\n",
       "      <td>6</td>\n",
       "    </tr>\n",
       "  </tbody>\n",
       "</table>\n",
       "</div>"
      ],
      "text/plain": [
       "   user_id        isbn  rating\n",
       "0   276725  034545104X       0\n",
       "1   276726   155061224       5\n",
       "2   276727   446520802       0\n",
       "3   276729  052165615X       3\n",
       "4   276729   521795028       6"
      ]
     },
     "execution_count": 30,
     "metadata": {},
     "output_type": "execute_result"
    }
   ],
   "source": [
    "rating_data.head()"
   ]
  },
  {
   "cell_type": "code",
   "execution_count": 31,
   "id": "124798bc-d2ac-4534-b46d-51deccc3cff5",
   "metadata": {},
   "outputs": [
    {
     "data": {
      "text/html": [
       "<div>\n",
       "<style scoped>\n",
       "    .dataframe tbody tr th:only-of-type {\n",
       "        vertical-align: middle;\n",
       "    }\n",
       "\n",
       "    .dataframe tbody tr th {\n",
       "        vertical-align: top;\n",
       "    }\n",
       "\n",
       "    .dataframe thead th {\n",
       "        text-align: right;\n",
       "    }\n",
       "</style>\n",
       "<table border=\"1\" class=\"dataframe\">\n",
       "  <thead>\n",
       "    <tr style=\"text-align: right;\">\n",
       "      <th></th>\n",
       "      <th>user_id</th>\n",
       "      <th>rating</th>\n",
       "    </tr>\n",
       "  </thead>\n",
       "  <tbody>\n",
       "    <tr>\n",
       "      <th>count</th>\n",
       "      <td>1.048575e+06</td>\n",
       "      <td>1.048575e+06</td>\n",
       "    </tr>\n",
       "    <tr>\n",
       "      <th>mean</th>\n",
       "      <td>1.285089e+05</td>\n",
       "      <td>2.879907e+00</td>\n",
       "    </tr>\n",
       "    <tr>\n",
       "      <th>std</th>\n",
       "      <td>7.421876e+04</td>\n",
       "      <td>3.857870e+00</td>\n",
       "    </tr>\n",
       "    <tr>\n",
       "      <th>min</th>\n",
       "      <td>2.000000e+00</td>\n",
       "      <td>0.000000e+00</td>\n",
       "    </tr>\n",
       "    <tr>\n",
       "      <th>25%</th>\n",
       "      <td>6.339400e+04</td>\n",
       "      <td>0.000000e+00</td>\n",
       "    </tr>\n",
       "    <tr>\n",
       "      <th>50%</th>\n",
       "      <td>1.288350e+05</td>\n",
       "      <td>0.000000e+00</td>\n",
       "    </tr>\n",
       "    <tr>\n",
       "      <th>75%</th>\n",
       "      <td>1.927790e+05</td>\n",
       "      <td>7.000000e+00</td>\n",
       "    </tr>\n",
       "    <tr>\n",
       "      <th>max</th>\n",
       "      <td>2.788540e+05</td>\n",
       "      <td>1.000000e+01</td>\n",
       "    </tr>\n",
       "  </tbody>\n",
       "</table>\n",
       "</div>"
      ],
      "text/plain": [
       "            user_id        rating\n",
       "count  1.048575e+06  1.048575e+06\n",
       "mean   1.285089e+05  2.879907e+00\n",
       "std    7.421876e+04  3.857870e+00\n",
       "min    2.000000e+00  0.000000e+00\n",
       "25%    6.339400e+04  0.000000e+00\n",
       "50%    1.288350e+05  0.000000e+00\n",
       "75%    1.927790e+05  7.000000e+00\n",
       "max    2.788540e+05  1.000000e+01"
      ]
     },
     "execution_count": 31,
     "metadata": {},
     "output_type": "execute_result"
    }
   ],
   "source": [
    "rating_data.describe()"
   ]
  },
  {
   "cell_type": "code",
   "execution_count": 32,
   "id": "3ec04f00-da92-45f2-a7f6-b450948c30ce",
   "metadata": {},
   "outputs": [],
   "source": [
    "# lets take 200k rows as we are running out of memory\n",
    "ratings = rating_data.head(10000)"
   ]
  },
  {
   "cell_type": "code",
   "execution_count": 33,
   "id": "e557592b-0f56-441e-86b3-4ba1dfbb92db",
   "metadata": {},
   "outputs": [
    {
     "data": {
      "text/plain": [
       "(10000, 3)"
      ]
     },
     "execution_count": 33,
     "metadata": {},
     "output_type": "execute_result"
    }
   ],
   "source": [
    "ratings.shape"
   ]
  },
  {
   "cell_type": "code",
   "execution_count": 34,
   "id": "78a879b8-9eeb-4a1d-8958-0f7b50e2738d",
   "metadata": {},
   "outputs": [],
   "source": [
    "# merge rating and books data frames\n",
    "merged_data = pd.merge(ratings, book_data, on='isbn')"
   ]
  },
  {
   "cell_type": "code",
   "execution_count": 35,
   "id": "8effa17d-d293-43ed-b372-cefb7fe1f010",
   "metadata": {},
   "outputs": [
    {
     "data": {
      "text/html": [
       "<div>\n",
       "<style scoped>\n",
       "    .dataframe tbody tr th:only-of-type {\n",
       "        vertical-align: middle;\n",
       "    }\n",
       "\n",
       "    .dataframe tbody tr th {\n",
       "        vertical-align: top;\n",
       "    }\n",
       "\n",
       "    .dataframe thead th {\n",
       "        text-align: right;\n",
       "    }\n",
       "</style>\n",
       "<table border=\"1\" class=\"dataframe\">\n",
       "  <thead>\n",
       "    <tr style=\"text-align: right;\">\n",
       "      <th></th>\n",
       "      <th>user_id</th>\n",
       "      <th>isbn</th>\n",
       "      <th>rating</th>\n",
       "      <th>book_title</th>\n",
       "      <th>book_author</th>\n",
       "      <th>year_of_publication</th>\n",
       "      <th>publisher</th>\n",
       "    </tr>\n",
       "  </thead>\n",
       "  <tbody>\n",
       "    <tr>\n",
       "      <th>0</th>\n",
       "      <td>276725</td>\n",
       "      <td>034545104X</td>\n",
       "      <td>0</td>\n",
       "      <td>Flesh Tones: A Novel</td>\n",
       "      <td>M. J. Rose</td>\n",
       "      <td>2002</td>\n",
       "      <td>Ballantine Books</td>\n",
       "    </tr>\n",
       "    <tr>\n",
       "      <th>1</th>\n",
       "      <td>276726</td>\n",
       "      <td>155061224</td>\n",
       "      <td>5</td>\n",
       "      <td>Rites of Passage</td>\n",
       "      <td>Judith Rae</td>\n",
       "      <td>2001</td>\n",
       "      <td>Heinle</td>\n",
       "    </tr>\n",
       "    <tr>\n",
       "      <th>2</th>\n",
       "      <td>276727</td>\n",
       "      <td>446520802</td>\n",
       "      <td>0</td>\n",
       "      <td>The Notebook</td>\n",
       "      <td>Nicholas Sparks</td>\n",
       "      <td>1996</td>\n",
       "      <td>Warner Books</td>\n",
       "    </tr>\n",
       "    <tr>\n",
       "      <th>3</th>\n",
       "      <td>278418</td>\n",
       "      <td>446520802</td>\n",
       "      <td>0</td>\n",
       "      <td>The Notebook</td>\n",
       "      <td>Nicholas Sparks</td>\n",
       "      <td>1996</td>\n",
       "      <td>Warner Books</td>\n",
       "    </tr>\n",
       "    <tr>\n",
       "      <th>4</th>\n",
       "      <td>276729</td>\n",
       "      <td>052165615X</td>\n",
       "      <td>3</td>\n",
       "      <td>Help!: Level 1</td>\n",
       "      <td>Philip Prowse</td>\n",
       "      <td>1999</td>\n",
       "      <td>Cambridge University Press</td>\n",
       "    </tr>\n",
       "  </tbody>\n",
       "</table>\n",
       "</div>"
      ],
      "text/plain": [
       "   user_id        isbn  rating            book_title      book_author  \\\n",
       "0   276725  034545104X       0  Flesh Tones: A Novel       M. J. Rose   \n",
       "1   276726   155061224       5      Rites of Passage       Judith Rae   \n",
       "2   276727   446520802       0          The Notebook  Nicholas Sparks   \n",
       "3   278418   446520802       0          The Notebook  Nicholas Sparks   \n",
       "4   276729  052165615X       3        Help!: Level 1    Philip Prowse   \n",
       "\n",
       "  year_of_publication                   publisher  \n",
       "0                2002            Ballantine Books  \n",
       "1                2001                      Heinle  \n",
       "2                1996                Warner Books  \n",
       "3                1996                Warner Books  \n",
       "4                1999  Cambridge University Press  "
      ]
     },
     "execution_count": 35,
     "metadata": {},
     "output_type": "execute_result"
    }
   ],
   "source": [
    "merged_data.head()"
   ]
  },
  {
   "cell_type": "code",
   "execution_count": 36,
   "id": "45d2fe3c-0d6c-458a-b7da-df320a585c4c",
   "metadata": {},
   "outputs": [
    {
     "data": {
      "text/plain": [
       "(8701, 7)"
      ]
     },
     "execution_count": 36,
     "metadata": {},
     "output_type": "execute_result"
    }
   ],
   "source": [
    "merged_data.shape"
   ]
  },
  {
   "cell_type": "code",
   "execution_count": 37,
   "id": "b872e3fd-4106-4749-a7d6-71d1bb87664f",
   "metadata": {},
   "outputs": [],
   "source": [
    "rateUsrGrpby = merged_data.groupby('user_id')"
   ]
  },
  {
   "cell_type": "code",
   "execution_count": 38,
   "id": "5429158b-f25d-4bd0-ba64-e33e4f072762",
   "metadata": {},
   "outputs": [
    {
     "data": {
      "text/html": [
       "<div>\n",
       "<style scoped>\n",
       "    .dataframe tbody tr th:only-of-type {\n",
       "        vertical-align: middle;\n",
       "    }\n",
       "\n",
       "    .dataframe tbody tr th {\n",
       "        vertical-align: top;\n",
       "    }\n",
       "\n",
       "    .dataframe thead th {\n",
       "        text-align: right;\n",
       "    }\n",
       "</style>\n",
       "<table border=\"1\" class=\"dataframe\">\n",
       "  <thead>\n",
       "    <tr style=\"text-align: right;\">\n",
       "      <th></th>\n",
       "      <th>isbn</th>\n",
       "      <th>rating</th>\n",
       "      <th>book_title</th>\n",
       "      <th>book_author</th>\n",
       "      <th>year_of_publication</th>\n",
       "      <th>publisher</th>\n",
       "    </tr>\n",
       "    <tr>\n",
       "      <th>user_id</th>\n",
       "      <th></th>\n",
       "      <th></th>\n",
       "      <th></th>\n",
       "      <th></th>\n",
       "      <th></th>\n",
       "      <th></th>\n",
       "    </tr>\n",
       "  </thead>\n",
       "  <tbody>\n",
       "    <tr>\n",
       "      <th>2</th>\n",
       "      <td>195153448</td>\n",
       "      <td>0</td>\n",
       "      <td>Classical Mythology</td>\n",
       "      <td>Mark P. O. Morford</td>\n",
       "      <td>2002</td>\n",
       "      <td>Oxford University Press</td>\n",
       "    </tr>\n",
       "    <tr>\n",
       "      <th>8</th>\n",
       "      <td>2005018</td>\n",
       "      <td>5</td>\n",
       "      <td>Clara Callan</td>\n",
       "      <td>Richard Bruce Wright</td>\n",
       "      <td>2001</td>\n",
       "      <td>HarperFlamingo Canada</td>\n",
       "    </tr>\n",
       "    <tr>\n",
       "      <th>9</th>\n",
       "      <td>440234743</td>\n",
       "      <td>0</td>\n",
       "      <td>The Testament</td>\n",
       "      <td>John Grisham</td>\n",
       "      <td>1999</td>\n",
       "      <td>Dell</td>\n",
       "    </tr>\n",
       "    <tr>\n",
       "      <th>10</th>\n",
       "      <td>1841721522</td>\n",
       "      <td>0</td>\n",
       "      <td>New Vegetarian: Bold and Beautiful Recipes for...</td>\n",
       "      <td>Celia Brooks Brown</td>\n",
       "      <td>2001</td>\n",
       "      <td>Ryland Peters &amp;amp; Small Ltd</td>\n",
       "    </tr>\n",
       "    <tr>\n",
       "      <th>12</th>\n",
       "      <td>1879384493</td>\n",
       "      <td>10</td>\n",
       "      <td>If I'd Known Then What I Know Now: Why Not Lea...</td>\n",
       "      <td>J. R. Parrish</td>\n",
       "      <td>2003</td>\n",
       "      <td>Cypress House</td>\n",
       "    </tr>\n",
       "    <tr>\n",
       "      <th>...</th>\n",
       "      <td>...</td>\n",
       "      <td>...</td>\n",
       "      <td>...</td>\n",
       "      <td>...</td>\n",
       "      <td>...</td>\n",
       "      <td>...</td>\n",
       "    </tr>\n",
       "    <tr>\n",
       "      <th>278846</th>\n",
       "      <td>60809833</td>\n",
       "      <td>8</td>\n",
       "      <td>Brave New World</td>\n",
       "      <td>Aldous Huxley</td>\n",
       "      <td>1989</td>\n",
       "      <td>Harpercollins</td>\n",
       "    </tr>\n",
       "    <tr>\n",
       "      <th>278849</th>\n",
       "      <td>380698439</td>\n",
       "      <td>9</td>\n",
       "      <td>Behind the Attic Wall (Avon Camelot Books (Pap...</td>\n",
       "      <td>Sylvia Cassedy</td>\n",
       "      <td>1985</td>\n",
       "      <td>HarperTrophy</td>\n",
       "    </tr>\n",
       "    <tr>\n",
       "      <th>278851</th>\n",
       "      <td>28630289</td>\n",
       "      <td>0</td>\n",
       "      <td>Frommer's 2000 California (Frommer's Californi...</td>\n",
       "      <td>Erika Lenkert</td>\n",
       "      <td>1999</td>\n",
       "      <td>Frommer's</td>\n",
       "    </tr>\n",
       "    <tr>\n",
       "      <th>278852</th>\n",
       "      <td>449907597</td>\n",
       "      <td>8</td>\n",
       "      <td>Dave Barry's Only Travel Guide You'll Ever Need</td>\n",
       "      <td>Dave Barry</td>\n",
       "      <td>1992</td>\n",
       "      <td>Ballantine Books</td>\n",
       "    </tr>\n",
       "    <tr>\n",
       "      <th>278854</th>\n",
       "      <td>042516098X</td>\n",
       "      <td>7</td>\n",
       "      <td>Hornet's Nest</td>\n",
       "      <td>Patricia Daniels Cornwell</td>\n",
       "      <td>1998</td>\n",
       "      <td>Berkley Publishing Group</td>\n",
       "    </tr>\n",
       "  </tbody>\n",
       "</table>\n",
       "<p>828 rows × 6 columns</p>\n",
       "</div>"
      ],
      "text/plain": [
       "               isbn  rating  \\\n",
       "user_id                       \n",
       "2         195153448       0   \n",
       "8           2005018       5   \n",
       "9         440234743       0   \n",
       "10       1841721522       0   \n",
       "12       1879384493      10   \n",
       "...             ...     ...   \n",
       "278846     60809833       8   \n",
       "278849    380698439       9   \n",
       "278851     28630289       0   \n",
       "278852    449907597       8   \n",
       "278854   042516098X       7   \n",
       "\n",
       "                                                book_title  \\\n",
       "user_id                                                      \n",
       "2                                      Classical Mythology   \n",
       "8                                             Clara Callan   \n",
       "9                                            The Testament   \n",
       "10       New Vegetarian: Bold and Beautiful Recipes for...   \n",
       "12       If I'd Known Then What I Know Now: Why Not Lea...   \n",
       "...                                                    ...   \n",
       "278846                                     Brave New World   \n",
       "278849   Behind the Attic Wall (Avon Camelot Books (Pap...   \n",
       "278851   Frommer's 2000 California (Frommer's Californi...   \n",
       "278852     Dave Barry's Only Travel Guide You'll Ever Need   \n",
       "278854                                       Hornet's Nest   \n",
       "\n",
       "                       book_author year_of_publication  \\\n",
       "user_id                                                  \n",
       "2               Mark P. O. Morford                2002   \n",
       "8             Richard Bruce Wright                2001   \n",
       "9                     John Grisham                1999   \n",
       "10              Celia Brooks Brown                2001   \n",
       "12                   J. R. Parrish                2003   \n",
       "...                            ...                 ...   \n",
       "278846               Aldous Huxley                1989   \n",
       "278849              Sylvia Cassedy                1985   \n",
       "278851               Erika Lenkert                1999   \n",
       "278852                  Dave Barry                1992   \n",
       "278854   Patricia Daniels Cornwell                1998   \n",
       "\n",
       "                             publisher  \n",
       "user_id                                 \n",
       "2              Oxford University Press  \n",
       "8                HarperFlamingo Canada  \n",
       "9                                 Dell  \n",
       "10       Ryland Peters &amp; Small Ltd  \n",
       "12                       Cypress House  \n",
       "...                                ...  \n",
       "278846                   Harpercollins  \n",
       "278849                    HarperTrophy  \n",
       "278851                       Frommer's  \n",
       "278852                Ballantine Books  \n",
       "278854        Berkley Publishing Group  \n",
       "\n",
       "[828 rows x 6 columns]"
      ]
     },
     "execution_count": 38,
     "metadata": {},
     "output_type": "execute_result"
    }
   ],
   "source": [
    "rateUsrGrpby.first()"
   ]
  },
  {
   "cell_type": "markdown",
   "id": "4aa8d1c9-4e9f-405c-86c5-68596066537f",
   "metadata": {},
   "source": [
    "#### Take a quick look at the number of unique users and books"
   ]
  },
  {
   "cell_type": "code",
   "execution_count": 39,
   "id": "33f8dd70-d121-44e4-afad-a84263c50bf3",
   "metadata": {},
   "outputs": [
    {
     "name": "stdout",
     "output_type": "stream",
     "text": [
      "unique users 828\n",
      "unique books 8051\n"
     ]
    }
   ],
   "source": [
    "print('unique users', merged_data.user_id.nunique())\n",
    "print('unique books', merged_data.isbn.nunique())"
   ]
  },
  {
   "cell_type": "markdown",
   "id": "35911a42-6fcd-4fb2-849f-ba11e99f6a97",
   "metadata": {},
   "source": [
    "### Convert ISBN variables to numeric numbers in the correct order"
   ]
  },
  {
   "cell_type": "code",
   "execution_count": 40,
   "id": "b28d8fbb-0d2a-4a8e-ba97-734cb5be4706",
   "metadata": {},
   "outputs": [],
   "source": [
    "# list of unique isbn numbers \n",
    "isbn_ulist = merged_data.isbn.unique()"
   ]
  },
  {
   "cell_type": "code",
   "execution_count": 41,
   "id": "02f0adae-04ef-4e49-9490-3a840ae4d779",
   "metadata": {},
   "outputs": [
    {
     "name": "stdout",
     "output_type": "stream",
     "text": [
      "Number of unique isbns in final merged dataset 8051 ['034545104X' '155061224' '446520802' '052165615X' '521795028'\n",
      " '2080674722' '038550120X' '425115801' '449006522' '553561618']\n"
     ]
    }
   ],
   "source": [
    "print('Number of unique isbns in final merged dataset' , isbn_ulist.size, isbn_ulist[:10])"
   ]
  },
  {
   "cell_type": "code",
   "execution_count": 42,
   "id": "0ddead15-1a64-499a-b374-a43c00985d9f",
   "metadata": {},
   "outputs": [],
   "source": [
    "# sort the list \n",
    "isbn_ulist.sort()"
   ]
  },
  {
   "cell_type": "code",
   "execution_count": 43,
   "id": "7e02e1f9-bf9b-43cb-aeae-4e3fc72aae9b",
   "metadata": {},
   "outputs": [
    {
     "name": "stdout",
     "output_type": "stream",
     "text": [
      "['000225669X' '002043300X' '002542730X' '003008685X' '003021436X'\n",
      " '006008216X' '006015957X' '006016848X' '006019491X' '006020883X']\n"
     ]
    }
   ],
   "source": [
    "print(isbn_ulist[:10])"
   ]
  },
  {
   "cell_type": "code",
   "execution_count": 45,
   "id": "dd469d2b-5686-4f91-acde-f83a3d93e08a",
   "metadata": {},
   "outputs": [],
   "source": [
    "# a= a = np.array([1, 2, 3, 4, 8, 6, 7, 3, 9, 10])\n",
    "#print(\"All index value of 3 is: \", np.where(a == 3)[0]) ---> prints [2,7]\n",
    " #print(\"First index value of 3 is: \",np.where(a==3)[0][0]) ---> prints 2\n",
    "    "
   ]
  },
  {
   "cell_type": "code",
   "execution_count": 44,
   "id": "9b4d0ff3-4bdb-402f-8887-f38ca0e6bd55",
   "metadata": {},
   "outputs": [],
   "source": [
    "# function to get the index of a isbn\n",
    "def convert_isbn_order(isbn):\n",
    "    index = np.where(isbn_ulist==isbn)\n",
    "    return index[0][0]\n"
   ]
  },
  {
   "cell_type": "code",
   "execution_count": 45,
   "id": "8746c454-21ae-4838-8d75-6e3b6f235530",
   "metadata": {},
   "outputs": [
    {
     "name": "stdout",
     "output_type": "stream",
     "text": [
      "Number of unique users in final merged dataset 828 [276725 276726 276727 278418 276729 276733 276744 276746 277427 278026]\n"
     ]
    }
   ],
   "source": [
    "# list of unique user Ids numbers \n",
    "userid_ulist = merged_data.user_id.unique()\n",
    "print('Number of unique users in final merged dataset' , userid_ulist.size, userid_ulist[:10])"
   ]
  },
  {
   "cell_type": "code",
   "execution_count": 46,
   "id": "2a849406-0fec-49ae-80cf-5420afe80737",
   "metadata": {},
   "outputs": [
    {
     "name": "stdout",
     "output_type": "stream",
     "text": [
      "after sorted  828 [ 2  8  9 10 12 14 16 17 19 20]\n"
     ]
    }
   ],
   "source": [
    "# sort the array\n",
    "userid_ulist.sort()\n",
    "print('after sorted ',  userid_ulist.size, userid_ulist[:10])"
   ]
  },
  {
   "cell_type": "code",
   "execution_count": 47,
   "id": "fc85c15f-18b4-453b-81dc-771eab3d3560",
   "metadata": {},
   "outputs": [],
   "source": [
    "# function to get index of user\n",
    "def convert_user_order(user):\n",
    "    index = np.where(userid_ulist==user)\n",
    "    return index[0][0]\n"
   ]
  },
  {
   "cell_type": "code",
   "execution_count": 48,
   "id": "aef95978-567d-458c-ace0-c23ae08b052b",
   "metadata": {},
   "outputs": [],
   "source": [
    "# create both user id and isbn index columns \n",
    "merged_data['user_index'] = merged_data['user_id'].apply(convert_user_order)\n"
   ]
  },
  {
   "cell_type": "code",
   "execution_count": 49,
   "id": "dfba12c4-19a3-4cd4-b8aa-9d23389e588d",
   "metadata": {},
   "outputs": [
    {
     "data": {
      "text/plain": [
       "69608"
      ]
     },
     "execution_count": 49,
     "metadata": {},
     "output_type": "execute_result"
    }
   ],
   "source": [
    "merged_data.size"
   ]
  },
  {
   "cell_type": "code",
   "execution_count": 50,
   "id": "2edab2d3-6381-4092-9bc4-9fd51fa7d70c",
   "metadata": {},
   "outputs": [
    {
     "data": {
      "text/html": [
       "<div>\n",
       "<style scoped>\n",
       "    .dataframe tbody tr th:only-of-type {\n",
       "        vertical-align: middle;\n",
       "    }\n",
       "\n",
       "    .dataframe tbody tr th {\n",
       "        vertical-align: top;\n",
       "    }\n",
       "\n",
       "    .dataframe thead th {\n",
       "        text-align: right;\n",
       "    }\n",
       "</style>\n",
       "<table border=\"1\" class=\"dataframe\">\n",
       "  <thead>\n",
       "    <tr style=\"text-align: right;\">\n",
       "      <th></th>\n",
       "      <th>user_id</th>\n",
       "      <th>isbn</th>\n",
       "      <th>rating</th>\n",
       "      <th>book_title</th>\n",
       "      <th>book_author</th>\n",
       "      <th>year_of_publication</th>\n",
       "      <th>publisher</th>\n",
       "      <th>user_index</th>\n",
       "    </tr>\n",
       "  </thead>\n",
       "  <tbody>\n",
       "    <tr>\n",
       "      <th>0</th>\n",
       "      <td>276725</td>\n",
       "      <td>034545104X</td>\n",
       "      <td>0</td>\n",
       "      <td>Flesh Tones: A Novel</td>\n",
       "      <td>M. J. Rose</td>\n",
       "      <td>2002</td>\n",
       "      <td>Ballantine Books</td>\n",
       "      <td>84</td>\n",
       "    </tr>\n",
       "    <tr>\n",
       "      <th>1</th>\n",
       "      <td>276726</td>\n",
       "      <td>155061224</td>\n",
       "      <td>5</td>\n",
       "      <td>Rites of Passage</td>\n",
       "      <td>Judith Rae</td>\n",
       "      <td>2001</td>\n",
       "      <td>Heinle</td>\n",
       "      <td>85</td>\n",
       "    </tr>\n",
       "    <tr>\n",
       "      <th>2</th>\n",
       "      <td>276727</td>\n",
       "      <td>446520802</td>\n",
       "      <td>0</td>\n",
       "      <td>The Notebook</td>\n",
       "      <td>Nicholas Sparks</td>\n",
       "      <td>1996</td>\n",
       "      <td>Warner Books</td>\n",
       "      <td>86</td>\n",
       "    </tr>\n",
       "    <tr>\n",
       "      <th>3</th>\n",
       "      <td>278418</td>\n",
       "      <td>446520802</td>\n",
       "      <td>0</td>\n",
       "      <td>The Notebook</td>\n",
       "      <td>Nicholas Sparks</td>\n",
       "      <td>1996</td>\n",
       "      <td>Warner Books</td>\n",
       "      <td>674</td>\n",
       "    </tr>\n",
       "    <tr>\n",
       "      <th>4</th>\n",
       "      <td>276729</td>\n",
       "      <td>052165615X</td>\n",
       "      <td>3</td>\n",
       "      <td>Help!: Level 1</td>\n",
       "      <td>Philip Prowse</td>\n",
       "      <td>1999</td>\n",
       "      <td>Cambridge University Press</td>\n",
       "      <td>87</td>\n",
       "    </tr>\n",
       "  </tbody>\n",
       "</table>\n",
       "</div>"
      ],
      "text/plain": [
       "   user_id        isbn  rating            book_title      book_author  \\\n",
       "0   276725  034545104X       0  Flesh Tones: A Novel       M. J. Rose   \n",
       "1   276726   155061224       5      Rites of Passage       Judith Rae   \n",
       "2   276727   446520802       0          The Notebook  Nicholas Sparks   \n",
       "3   278418   446520802       0          The Notebook  Nicholas Sparks   \n",
       "4   276729  052165615X       3        Help!: Level 1    Philip Prowse   \n",
       "\n",
       "  year_of_publication                   publisher  user_index  \n",
       "0                2002            Ballantine Books          84  \n",
       "1                2001                      Heinle          85  \n",
       "2                1996                Warner Books          86  \n",
       "3                1996                Warner Books         674  \n",
       "4                1999  Cambridge University Press          87  "
      ]
     },
     "execution_count": 50,
     "metadata": {},
     "output_type": "execute_result"
    }
   ],
   "source": [
    "merged_data.head()"
   ]
  },
  {
   "cell_type": "code",
   "execution_count": 51,
   "id": "1b2a0951-bf6c-4333-9651-e04c15e77e88",
   "metadata": {},
   "outputs": [],
   "source": [
    "merged_data['isbn_index'] = merged_data['isbn'].apply(convert_isbn_order)"
   ]
  },
  {
   "cell_type": "code",
   "execution_count": 52,
   "id": "e2335b6e-ced3-4c73-b76e-d50eae50973e",
   "metadata": {},
   "outputs": [
    {
     "data": {
      "text/html": [
       "<div>\n",
       "<style scoped>\n",
       "    .dataframe tbody tr th:only-of-type {\n",
       "        vertical-align: middle;\n",
       "    }\n",
       "\n",
       "    .dataframe tbody tr th {\n",
       "        vertical-align: top;\n",
       "    }\n",
       "\n",
       "    .dataframe thead th {\n",
       "        text-align: right;\n",
       "    }\n",
       "</style>\n",
       "<table border=\"1\" class=\"dataframe\">\n",
       "  <thead>\n",
       "    <tr style=\"text-align: right;\">\n",
       "      <th></th>\n",
       "      <th>user_id</th>\n",
       "      <th>isbn</th>\n",
       "      <th>rating</th>\n",
       "      <th>book_title</th>\n",
       "      <th>book_author</th>\n",
       "      <th>year_of_publication</th>\n",
       "      <th>publisher</th>\n",
       "      <th>user_index</th>\n",
       "      <th>isbn_index</th>\n",
       "    </tr>\n",
       "  </thead>\n",
       "  <tbody>\n",
       "    <tr>\n",
       "      <th>0</th>\n",
       "      <td>276725</td>\n",
       "      <td>034545104X</td>\n",
       "      <td>0</td>\n",
       "      <td>Flesh Tones: A Novel</td>\n",
       "      <td>M. J. Rose</td>\n",
       "      <td>2002</td>\n",
       "      <td>Ballantine Books</td>\n",
       "      <td>84</td>\n",
       "      <td>112</td>\n",
       "    </tr>\n",
       "    <tr>\n",
       "      <th>1</th>\n",
       "      <td>276726</td>\n",
       "      <td>155061224</td>\n",
       "      <td>5</td>\n",
       "      <td>Rites of Passage</td>\n",
       "      <td>Judith Rae</td>\n",
       "      <td>2001</td>\n",
       "      <td>Heinle</td>\n",
       "      <td>85</td>\n",
       "      <td>755</td>\n",
       "    </tr>\n",
       "    <tr>\n",
       "      <th>2</th>\n",
       "      <td>276727</td>\n",
       "      <td>446520802</td>\n",
       "      <td>0</td>\n",
       "      <td>The Notebook</td>\n",
       "      <td>Nicholas Sparks</td>\n",
       "      <td>1996</td>\n",
       "      <td>Warner Books</td>\n",
       "      <td>86</td>\n",
       "      <td>4481</td>\n",
       "    </tr>\n",
       "    <tr>\n",
       "      <th>3</th>\n",
       "      <td>278418</td>\n",
       "      <td>446520802</td>\n",
       "      <td>0</td>\n",
       "      <td>The Notebook</td>\n",
       "      <td>Nicholas Sparks</td>\n",
       "      <td>1996</td>\n",
       "      <td>Warner Books</td>\n",
       "      <td>674</td>\n",
       "      <td>4481</td>\n",
       "    </tr>\n",
       "    <tr>\n",
       "      <th>4</th>\n",
       "      <td>276729</td>\n",
       "      <td>052165615X</td>\n",
       "      <td>3</td>\n",
       "      <td>Help!: Level 1</td>\n",
       "      <td>Philip Prowse</td>\n",
       "      <td>1999</td>\n",
       "      <td>Cambridge University Press</td>\n",
       "      <td>87</td>\n",
       "      <td>330</td>\n",
       "    </tr>\n",
       "  </tbody>\n",
       "</table>\n",
       "</div>"
      ],
      "text/plain": [
       "   user_id        isbn  rating            book_title      book_author  \\\n",
       "0   276725  034545104X       0  Flesh Tones: A Novel       M. J. Rose   \n",
       "1   276726   155061224       5      Rites of Passage       Judith Rae   \n",
       "2   276727   446520802       0          The Notebook  Nicholas Sparks   \n",
       "3   278418   446520802       0          The Notebook  Nicholas Sparks   \n",
       "4   276729  052165615X       3        Help!: Level 1    Philip Prowse   \n",
       "\n",
       "  year_of_publication                   publisher  user_index  isbn_index  \n",
       "0                2002            Ballantine Books          84         112  \n",
       "1                2001                      Heinle          85         755  \n",
       "2                1996                Warner Books          86        4481  \n",
       "3                1996                Warner Books         674        4481  \n",
       "4                1999  Cambridge University Press          87         330  "
      ]
     },
     "execution_count": 52,
     "metadata": {},
     "output_type": "execute_result"
    }
   ],
   "source": [
    "merged_data.head()"
   ]
  },
  {
   "cell_type": "code",
   "execution_count": 53,
   "id": "aa81631f-9a0c-4627-96ca-01908aca4851",
   "metadata": {},
   "outputs": [
    {
     "data": {
      "text/plain": [
       "78309"
      ]
     },
     "execution_count": 53,
     "metadata": {},
     "output_type": "execute_result"
    }
   ],
   "source": [
    "merged_data.size"
   ]
  },
  {
   "cell_type": "code",
   "execution_count": 54,
   "id": "acfc696c-cb33-4768-a519-236b7622765f",
   "metadata": {},
   "outputs": [
    {
     "data": {
      "text/html": [
       "<div>\n",
       "<style scoped>\n",
       "    .dataframe tbody tr th:only-of-type {\n",
       "        vertical-align: middle;\n",
       "    }\n",
       "\n",
       "    .dataframe tbody tr th {\n",
       "        vertical-align: top;\n",
       "    }\n",
       "\n",
       "    .dataframe thead th {\n",
       "        text-align: right;\n",
       "    }\n",
       "</style>\n",
       "<table border=\"1\" class=\"dataframe\">\n",
       "  <thead>\n",
       "    <tr style=\"text-align: right;\">\n",
       "      <th></th>\n",
       "      <th>user_index</th>\n",
       "      <th>isbn_index</th>\n",
       "      <th>rating</th>\n",
       "      <th>book_title</th>\n",
       "      <th>book_author</th>\n",
       "      <th>year_of_publication</th>\n",
       "      <th>publisher</th>\n",
       "      <th>isbn</th>\n",
       "      <th>user_id</th>\n",
       "    </tr>\n",
       "  </thead>\n",
       "  <tbody>\n",
       "    <tr>\n",
       "      <th>0</th>\n",
       "      <td>84</td>\n",
       "      <td>112</td>\n",
       "      <td>0</td>\n",
       "      <td>Flesh Tones: A Novel</td>\n",
       "      <td>M. J. Rose</td>\n",
       "      <td>2002</td>\n",
       "      <td>Ballantine Books</td>\n",
       "      <td>034545104X</td>\n",
       "      <td>276725</td>\n",
       "    </tr>\n",
       "    <tr>\n",
       "      <th>1</th>\n",
       "      <td>85</td>\n",
       "      <td>755</td>\n",
       "      <td>5</td>\n",
       "      <td>Rites of Passage</td>\n",
       "      <td>Judith Rae</td>\n",
       "      <td>2001</td>\n",
       "      <td>Heinle</td>\n",
       "      <td>155061224</td>\n",
       "      <td>276726</td>\n",
       "    </tr>\n",
       "    <tr>\n",
       "      <th>2</th>\n",
       "      <td>86</td>\n",
       "      <td>4481</td>\n",
       "      <td>0</td>\n",
       "      <td>The Notebook</td>\n",
       "      <td>Nicholas Sparks</td>\n",
       "      <td>1996</td>\n",
       "      <td>Warner Books</td>\n",
       "      <td>446520802</td>\n",
       "      <td>276727</td>\n",
       "    </tr>\n",
       "    <tr>\n",
       "      <th>3</th>\n",
       "      <td>674</td>\n",
       "      <td>4481</td>\n",
       "      <td>0</td>\n",
       "      <td>The Notebook</td>\n",
       "      <td>Nicholas Sparks</td>\n",
       "      <td>1996</td>\n",
       "      <td>Warner Books</td>\n",
       "      <td>446520802</td>\n",
       "      <td>278418</td>\n",
       "    </tr>\n",
       "    <tr>\n",
       "      <th>4</th>\n",
       "      <td>87</td>\n",
       "      <td>330</td>\n",
       "      <td>3</td>\n",
       "      <td>Help!: Level 1</td>\n",
       "      <td>Philip Prowse</td>\n",
       "      <td>1999</td>\n",
       "      <td>Cambridge University Press</td>\n",
       "      <td>052165615X</td>\n",
       "      <td>276729</td>\n",
       "    </tr>\n",
       "  </tbody>\n",
       "</table>\n",
       "</div>"
      ],
      "text/plain": [
       "   user_index  isbn_index  rating            book_title      book_author  \\\n",
       "0          84         112       0  Flesh Tones: A Novel       M. J. Rose   \n",
       "1          85         755       5      Rites of Passage       Judith Rae   \n",
       "2          86        4481       0          The Notebook  Nicholas Sparks   \n",
       "3         674        4481       0          The Notebook  Nicholas Sparks   \n",
       "4          87         330       3        Help!: Level 1    Philip Prowse   \n",
       "\n",
       "  year_of_publication                   publisher        isbn  user_id  \n",
       "0                2002            Ballantine Books  034545104X   276725  \n",
       "1                2001                      Heinle   155061224   276726  \n",
       "2                1996                Warner Books   446520802   276727  \n",
       "3                1996                Warner Books   446520802   278418  \n",
       "4                1999  Cambridge University Press  052165615X   276729  "
      ]
     },
     "execution_count": 54,
     "metadata": {},
     "output_type": "execute_result"
    }
   ],
   "source": [
    "#### ReIndex the columns to build matrix\n",
    "new_col_order = ['user_index', 'isbn_index', 'rating', 'book_title', 'book_author','year_of_publication','publisher','isbn','user_id']\n",
    "merged_data = merged_data.reindex(columns= new_col_order)\n",
    "merged_data.head()"
   ]
  },
  {
   "cell_type": "code",
   "execution_count": 55,
   "id": "78a2a5f6-4e43-47f4-bb0c-6d2963186688",
   "metadata": {},
   "outputs": [],
   "source": [
    "#### \tSplit your data into two sets (training and testing)\n",
    "from sklearn.model_selection import train_test_split\n",
    "train, test = train_test_split(merged_data, test_size=0.25)"
   ]
  },
  {
   "cell_type": "code",
   "execution_count": 56,
   "id": "b96c8d13-f818-4af5-a3d6-6d1190fd67d3",
   "metadata": {},
   "outputs": [
    {
     "name": "stdout",
     "output_type": "stream",
     "text": [
      "train data size 58725  test data size 19584 78309\n"
     ]
    }
   ],
   "source": [
    "print('train data size', train.size, ' test data size' , test.size, merged_data.size)"
   ]
  },
  {
   "cell_type": "markdown",
   "id": "9eed006b-5db1-4e58-b8dc-725f743ae193",
   "metadata": {},
   "source": [
    "#### Make predictions based on user and item variables"
   ]
  },
  {
   "cell_type": "raw",
   "id": "4752730a-08fa-43b8-8c1a-98997777b5ec",
   "metadata": {},
   "source": [
    "Approach: We will use memory based filtering approach. \n",
    "1. User- user filtering : We will recommend items that are loked by similar users \n",
    "2. Item-item filtering: we will recommend items like by users who liked the item that we liked. "
   ]
  },
  {
   "cell_type": "code",
   "execution_count": 57,
   "id": "6682cd9b-e0c3-490a-9841-1ed0420063fa",
   "metadata": {},
   "outputs": [],
   "source": [
    "# unique users\n",
    "uniq_users = merged_data.user_id.unique().shape[0];\n",
    "# unique books\n",
    "uniq_books = merged_data.isbn.unique().shape[0]"
   ]
  },
  {
   "cell_type": "code",
   "execution_count": 58,
   "id": "423bae59-624b-497d-af89-bcd411e74ca8",
   "metadata": {},
   "outputs": [
    {
     "name": "stdout",
     "output_type": "stream",
     "text": [
      "unique user count 828 unique book count 8051\n"
     ]
    }
   ],
   "source": [
    "print('unique user count', uniq_users, 'unique book count', uniq_books)"
   ]
  },
  {
   "cell_type": "code",
   "execution_count": 59,
   "id": "fc22b4d6-d3b3-4410-809b-25db5cfe6c7e",
   "metadata": {},
   "outputs": [],
   "source": [
    "#lets build user book matrix for train data \n",
    "train_matrix = np.zeros((uniq_users, uniq_books))\n",
    "for line in train.itertuples():\n",
    "        #[user_id index, movie_id index] = given rating.\n",
    "        # print(line[0], line[1], line[2], line[3])\n",
    "    train_matrix[int(str(line[1]))-1, int(str(line[2]))-1] = line[3]"
   ]
  },
  {
   "cell_type": "code",
   "execution_count": 60,
   "id": "5417e087-c54a-4e05-a325-ffff7d44a472",
   "metadata": {},
   "outputs": [],
   "source": [
    "# Create user-book matrix for testing\n",
    "test_matrix = np.zeros((uniq_users, uniq_books))\n",
    "for line in test.itertuples():\n",
    "    test_matrix[int(str(line[1]))-1, int(str(line[2]))-1] = line[3]\n",
    "        "
   ]
  },
  {
   "cell_type": "code",
   "execution_count": 61,
   "id": "5559d4e7-12de-4ec2-9fec-27bd31e59bd2",
   "metadata": {},
   "outputs": [
    {
     "data": {
      "text/plain": [
       "((828, 8051), (828, 8051))"
      ]
     },
     "execution_count": 61,
     "metadata": {},
     "output_type": "execute_result"
    }
   ],
   "source": [
    "train_matrix.shape, test_matrix.shape"
   ]
  },
  {
   "cell_type": "code",
   "execution_count": 62,
   "id": "7ad74848-0a37-4a53-b712-fd68b3c476d1",
   "metadata": {},
   "outputs": [],
   "source": [
    "#import pairwise model\n",
    "from sklearn.metrics.pairwise import pairwise_distances"
   ]
  },
  {
   "cell_type": "code",
   "execution_count": 64,
   "id": "de14df47-0fd7-4f53-9072-5c5c78257f98",
   "metadata": {},
   "outputs": [],
   "source": [
    "user_similarity = pairwise_distances(train_matrix, metric='cosine')\n",
    "book_similarity = pairwise_distances(train_matrix.T, metric='cosine')"
   ]
  },
  {
   "cell_type": "code",
   "execution_count": 65,
   "id": "541acad4-594d-41b2-aa26-524128998251",
   "metadata": {},
   "outputs": [],
   "source": [
    "# prediction generic function \n",
    "def predict(matrix, similarity, input_type):\n",
    "    if input_type == 'user':\n",
    "        mean_user_rating = train_matrix.mean(axis=1)[:, np.newaxis] \n",
    "        ratings_diff = (train_matrix - mean_user_rating)\n",
    "        pred = mean_user_rating + similarity.dot(ratings_diff) / np.array([np.abs(user_similarity).sum(axis=1)]).T\n",
    "    elif input_type == 'book':\n",
    "        pred = matrix.dot(similarity) / np.array([np.abs(similarity).sum(axis=1)])\n",
    "    return pred"
   ]
  },
  {
   "cell_type": "code",
   "execution_count": 66,
   "id": "da62fff5-b8ca-4c00-ab0a-f36ddcad491b",
   "metadata": {},
   "outputs": [],
   "source": [
    "book_prediction = predict(train_matrix, book_similarity, 'book')"
   ]
  },
  {
   "cell_type": "code",
   "execution_count": 67,
   "id": "dcb02266-f510-4e6c-909b-33b017c76c90",
   "metadata": {},
   "outputs": [],
   "source": [
    "user_prediction = predict(train_matrix, user_similarity, 'user')"
   ]
  },
  {
   "cell_type": "code",
   "execution_count": 68,
   "id": "d86869ff-6780-4978-81d0-ffdc2552172c",
   "metadata": {},
   "outputs": [
    {
     "name": "stdout",
     "output_type": "stream",
     "text": [
      "book_prediction [[0.00484472 0.00489393 0.00484472 ... 0.00484472 0.00484472 0.00484472]\n",
      " [0.00074534 0.00075291 0.00074534 ... 0.00074534 0.00074534 0.00074534]\n",
      " [0.         0.         0.         ... 0.         0.         0.        ]\n",
      " ...\n",
      " [0.00099379 0.00100388 0.00099379 ... 0.00099379 0.00099379 0.00099379]\n",
      " [0.00521739 0.00527038 0.00521739 ... 0.00521739 0.00521739 0.00521739]\n",
      " [0.         0.         0.         ... 0.         0.         0.        ]]\n"
     ]
    }
   ],
   "source": [
    "print('book_prediction', book_prediction)\n"
   ]
  },
  {
   "cell_type": "code",
   "execution_count": 69,
   "id": "6504a1f9-22c7-4186-ad80-2d7498a1a500",
   "metadata": {},
   "outputs": [
    {
     "name": "stdout",
     "output_type": "stream",
     "text": [
      "user prediction [[ 0.00295997  0.03318972  0.00295997 ...  0.00295997  0.00295997\n",
      "   0.01021511]\n",
      " [-0.00114386  0.02908589 -0.00114386 ... -0.00114386 -0.00114386\n",
      "   0.00611128]\n",
      " [-0.00189001  0.02833974 -0.00189001 ... -0.00189001 -0.00189001\n",
      "   0.00536513]\n",
      " ...\n",
      " [-0.00089514  0.02933461 -0.00089514 ... -0.00089514 -0.00089514\n",
      "   0.00636   ]\n",
      " [ 0.00333437  0.03356616  0.00333437 ...  0.00333437  0.00333437\n",
      "   0.01059   ]\n",
      " [-0.00189001  0.02833974 -0.00189001 ... -0.00189001 -0.00189001\n",
      "   0.00536513]]\n"
     ]
    }
   ],
   "source": [
    "print('user prediction' , user_prediction)"
   ]
  },
  {
   "cell_type": "code",
   "execution_count": 70,
   "id": "2182f93d-7411-4650-a7fe-20efcef2755e",
   "metadata": {},
   "outputs": [],
   "source": [
    "# model evaluation\n",
    "from sklearn.metrics import mean_squared_error\n",
    "from math import sqrt"
   ]
  },
  {
   "cell_type": "code",
   "execution_count": 85,
   "id": "e04a19fe-4845-4c91-8179-0e884900ebe5",
   "metadata": {},
   "outputs": [],
   "source": [
    "def rmse(prediction, testdata):\n",
    "    return sqrt(mean_squared_error(testdata, prediction))"
   ]
  },
  {
   "cell_type": "code",
   "execution_count": 86,
   "id": "88f68552-c028-4b49-ab31-ce9fa981edd9",
   "metadata": {},
   "outputs": [
    {
     "name": "stdout",
     "output_type": "stream",
     "text": [
      "User-based Filtering RMSE: 0.0705716829746829\n",
      "Item-based Filtering RMSE: 0.07044161438779482\n"
     ]
    }
   ],
   "source": [
    "print('User-based Filtering RMSE: ' + str(rmse(user_prediction, test_matrix)))\n",
    "print('Item-based Filtering RMSE: ' + str(rmse(book_prediction, test_matrix)))"
   ]
  },
  {
   "cell_type": "raw",
   "id": "c74ace28-dd41-4903-832c-289ce49770c6",
   "metadata": {},
   "source": [
    "Both the approaches giving same performance(RMSE is low and is almost equal). So We can take any one of these approaches."
   ]
  },
  {
   "cell_type": "code",
   "execution_count": null,
   "id": "4c1ee67c-9ae7-4188-81bb-1ad1b2c4e804",
   "metadata": {},
   "outputs": [],
   "source": []
  }
 ],
 "metadata": {
  "kernelspec": {
   "display_name": "Python 3 (ipykernel)",
   "language": "python",
   "name": "python3"
  },
  "language_info": {
   "codemirror_mode": {
    "name": "ipython",
    "version": 3
   },
   "file_extension": ".py",
   "mimetype": "text/x-python",
   "name": "python",
   "nbconvert_exporter": "python",
   "pygments_lexer": "ipython3",
   "version": "3.9.13"
  }
 },
 "nbformat": 4,
 "nbformat_minor": 5
}
